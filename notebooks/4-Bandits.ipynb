{
  "cells": [
    {
      "cell_type": "markdown",
      "metadata": {
        "id": "view-in-github",
        "colab_type": "text"
      },
      "source": [
        "<a href=\"https://colab.research.google.com/github/erichsdb/Deep-Reinforcement-Learning/blob/main/notebooks/4-Bandits.ipynb\" target=\"_parent\"><img src=\"https://colab.research.google.com/assets/colab-badge.svg\" alt=\"Open In Colab\"/></a>"
      ]
    },
    {
      "cell_type": "markdown",
      "metadata": {
        "id": "Rj-rXPzpaT8Y"
      },
      "source": [
        "# Bandits"
      ]
    },
    {
      "cell_type": "markdown",
      "metadata": {
        "id": "1sjTgnfoaT8c"
      },
      "source": [
        "In this part, we will investigate the properties of the action selection schemes seen in the lecture and compare their properties:\n",
        "\n",
        "1. greedy action selection\n",
        "2. $\\epsilon$-greedy action selection\n",
        "3. softmax action selection\n",
        "\n",
        "Let's re-use the definitions of the last exercise:"
      ]
    },
    {
      "cell_type": "code",
      "execution_count": 22,
      "metadata": {
        "id": "zi22kvlfaT8e"
      },
      "outputs": [],
      "source": [
        "import numpy as np\n",
        "import matplotlib.pyplot as plt\n",
        "\n",
        "rng = np.random.default_rng()"
      ]
    },
    {
      "cell_type": "code",
      "execution_count": 23,
      "metadata": {
        "id": "AYJSXidZaT8f"
      },
      "outputs": [],
      "source": [
        "class Bandit:\n",
        "    \"\"\"\n",
        "    n-armed bandit.\n",
        "    \"\"\"\n",
        "    def __init__(self, nb_actions, mean=0.0, std_Q=1.0, std_r=1.0):\n",
        "        \"\"\"\n",
        "        :param nb_actions: number of arms.\n",
        "        :param mean: mean of the normal distribution for $Q^*$.\n",
        "        :param std_Q: standard deviation of the normal distribution for $Q^*$.\n",
        "        :param std_r: standard deviation of the normal distribution for the sampled rewards.\n",
        "        \"\"\"\n",
        "        # Store parameters\n",
        "        self.nb_actions = nb_actions\n",
        "        self.mean = mean\n",
        "        self.std_Q = std_Q\n",
        "        self.std_r = std_r\n",
        "\n",
        "        # Initialize the true Q-values\n",
        "        self.Q_star = rng.normal(self.mean, self.std_Q, self.nb_actions)\n",
        "\n",
        "        # Optimal action\n",
        "        self.a_star = self.Q_star.argmax()\n",
        "\n",
        "    def step(self, action):\n",
        "        \"\"\"\n",
        "        Sampled a single reward from the bandit.\n",
        "\n",
        "        :param action: the selected action.\n",
        "        :return: a reward.\n",
        "        \"\"\"\n",
        "        return float(rng.normal(self.Q_star[action], self.std_r, 1)[0])"
      ]
    },
    {
      "cell_type": "code",
      "execution_count": 24,
      "metadata": {
        "id": "N4KoNm8ZaT8h",
        "outputId": "b5c7dcbf-6834-475d-86fe-48cb3bcdea05",
        "colab": {
          "base_uri": "https://localhost:8080/",
          "height": 501
        }
      },
      "outputs": [
        {
          "output_type": "stream",
          "name": "stdout",
          "text": [
            "[ 0.28897433 -1.53735753  0.79026952  0.43303769 -1.64464805]\n",
            "2\n"
          ]
        },
        {
          "output_type": "display_data",
          "data": {
            "text/plain": [
              "<Figure size 1500x500 with 3 Axes>"
            ],
            "image/png": "[encoded data removed]"
          },
          "metadata": {}
        }
      ],
      "source": [
        "nb_actions = 5\n",
        "bandit = Bandit(nb_actions)\n",
        "\n",
        "print(bandit.Q_star)\n",
        "print(bandit.a_star)\n",
        "\n",
        "all_rewards = []\n",
        "for t in range(1000):\n",
        "    rewards = []\n",
        "    for a in range(nb_actions):\n",
        "        rewards.append(bandit.step(a))\n",
        "    all_rewards.append(rewards)\n",
        "\n",
        "mean_reward = np.mean(all_rewards, axis=0)\n",
        "\n",
        "plt.figure(figsize=(15, 5))\n",
        "plt.subplot(131)\n",
        "plt.bar(range(nb_actions), bandit.Q_star)\n",
        "plt.xlabel(\"Actions\")\n",
        "plt.ylabel(\"$Q^*(a)$\")\n",
        "plt.subplot(132)\n",
        "plt.bar(range(nb_actions), mean_reward)\n",
        "plt.xlabel(\"Actions\")\n",
        "plt.ylabel(\"$Q_t(a)$\")\n",
        "plt.subplot(133)\n",
        "plt.bar(range(nb_actions), np.abs(bandit.Q_star - mean_reward))\n",
        "plt.xlabel(\"Actions\")\n",
        "plt.ylabel(\"Absolute error\")\n",
        "plt.show()"
      ]
    },
    {
      "cell_type": "markdown",
      "metadata": {
        "id": "8yNrKI_faT8j"
      },
      "source": [
        "## Greedy action selection\n",
        "\n",
        "In **greedy action selection**, we systematically chose the action with the highest estimated Q-value at each play (or randomly when there are ties):\n",
        "\n",
        "$$a_t = \\text{argmax}_a Q_t(a)$$\n",
        "\n",
        "We maintain estimates $Q_t$ of the action values (initialized to 0) using the online formula:\n",
        "\n",
        "$$Q_{t+1}(a_t) = Q_t(a_t) + \\alpha \\, (r_{t} - Q_t(a_t))$$\n",
        "\n",
        "when receiving the sampled reward $r_t$ after taking the action $a_t$. The learning rate $\\alpha$ can be set to 0.1 at first.\n",
        "\n",
        "The algorithm simply alternates between these two steps for 1000 plays (or steps): take an action, update its Q-value.\n",
        "\n",
        "**Q:** Implement the greedy algorithm on the 5-armed bandit.\n",
        "\n",
        "Your algorithm will look like this:\n",
        "\n",
        "* Create a 5-armed bandit (mean of zero, variance of 1).\n",
        "* Initialize the estimated Q-values to 0 with an array of the same size as the bandit.\n",
        "* **for** 1000 plays:\n",
        "    * Select the greedy action $a_t^*$ using the current estimates.\n",
        "    * Sample a reward from $\\mathcal{N}(Q^*(a_t^*), 1)$.\n",
        "    * Update the estimated Q-value of the action taken.\n",
        "    \n",
        "Additionally, you will store the received rewards at each step in an initially empty list or a numpy array of the correct size and plot it in the end. You will also plot the true Q-values and the estimated Q-values at the end of the 1000 plays.\n",
        "\n",
        "*Tip:* to implement the argmax, do not rely on `np.argmax()`. If there are ties in the array, for example at the beginning:\n",
        "\n",
        "```python\n",
        "x = np.array([0, 0, 0, 0, 0])\n",
        "```\n",
        "\n",
        "`x.argmax()` will return you the **first occurrence** of the maximum 0.0 of the array. In this case it will be the index 0, so you will always select the action 0 first.\n",
        "\n",
        "It is much more efficient to retrieve the indices of **all** maxima and randomly select one of them:\n",
        "\n",
        "```python\n",
        "a = rng.choice(np.where(x == x.max())[0])\n",
        "```\n",
        "\n",
        "`np.where(x == x.max())` returns a list of indices where `x` is maximum. `rng.choice()` randomly selects one of them."
      ]
    },
    {
      "cell_type": "code",
      "execution_count": 25,
      "metadata": {
        "id": "pCafugQ9aT8k",
        "outputId": "e24d1943-d763-480a-9ebe-31d6a68e7648",
        "colab": {
          "base_uri": "https://localhost:8080/"
        }
      },
      "outputs": [
        {
          "output_type": "stream",
          "name": "stdout",
          "text": [
            "Bandit reward: [ 0.70754233  0.32102694  1.03745535 -1.44912731  0.04972952]\n",
            "Estimated reward: [ 0.          0.          0.90558552 -0.27868164  0.        ]\n",
            "Best bandit action is 2, best estimated action is 2\n"
          ]
        }
      ],
      "source": [
        "nb_actions = 5\n",
        "bandit = Bandit(nb_actions)\n",
        "\n",
        "alpha = 0.1\n",
        "\n",
        "print(f\"Bandit reward: {bandit.Q_star}\")\n",
        "\n",
        "reward_estimate = np.zeros(nb_actions)\n",
        "\n",
        "for t in range(1000):\n",
        "    a = rng.choice(np.where(reward_estimate == reward_estimate.max())[0])\n",
        "\n",
        "    reward_estimate[a] = reward_estimate[a] + alpha * (bandit.step(a) - reward_estimate[a])\n",
        "\n",
        "print(f\"Estimated reward: {reward_estimate}\")\n",
        "print(f\"Best bandit action is {bandit.a_star}, best estimated action is {reward_estimate.argmax()}\")"
      ]
    },
    {
      "cell_type": "markdown",
      "metadata": {
        "id": "LDzKXgkkaT8k"
      },
      "source": [
        "**Q:** Re-run your algorithm multiple times with different values of $Q^*$ (simply recreate the `Bandit`) and observe:\n",
        "\n",
        "1. How much reward you get.\n",
        "2. How your estimated Q-values in the end differ from the true Q-values.\n",
        "3. Whether greedy action action selection finds the optimal action or not."
      ]
    },
    {
      "cell_type": "markdown",
      "metadata": {
        "id": "cIE7_gMjaT8l"
      },
      "source": [
        "Before going further, let's turn the agent into a class for better reusability.\n",
        "\n",
        "**Q:** Create a `GreedyAgent` class taking the bandit as an argument as well as the learning rate `alpha=0.1`:\n",
        "\n",
        "```python\n",
        "bandit = Bandit(nb_actions)\n",
        "\n",
        "agent = GreedyAgent(bandit, alpha=0.1)\n",
        "```\n",
        "\n",
        "The constructor should initialize the array of estimated Q-values `Q_t` and store it as an attribute.\n",
        "\n",
        "Define a method `act(self)` that returns the index of the greedy action based on the current estimates, as well as a method `update(self, action, reward)` that allows to update the estimated Q-value of the action given the obtained reward. Define also a `train(self, nb_steps)` method that implements the complete training process for `nb_steps=1000` plays and returns the list of obtained rewards.\n",
        "\n",
        "```python\n",
        "class GreedyAgent:\n",
        "    def __init__(self, bandit, alpha):\n",
        "        # TODO\n",
        "        \n",
        "    def act(self):      \n",
        "        action = # TODO\n",
        "        return action\n",
        "        \n",
        "    def update(self, action, reward):\n",
        "        # TODO\n",
        "        \n",
        "    def train(self, nb_steps):\n",
        "        # TODO\n",
        "```\n",
        "\n",
        "Re-run the experiment using this Greedy agent."
      ]
    },
    {
      "cell_type": "code",
      "execution_count": 26,
      "metadata": {
        "id": "_jJjg3eSaT8q"
      },
      "outputs": [],
      "source": [
        "class GreedyAgent:\n",
        "    def __init__(self, bandit, alpha):\n",
        "        self.bandit = bandit\n",
        "        self.alpha = alpha\n",
        "        self.Q_t = np.zeros(bandit.nb_actions)\n",
        "\n",
        "    def act(self):\n",
        "        action = rng.choice(np.where(self.Q_t == self.Q_t.max())[0])\n",
        "        return action\n",
        "\n",
        "    def update(self, action, reward):\n",
        "        self.Q_t[action] = self.Q_t[action] + self.alpha * (reward - self.Q_t[action])\n",
        "\n",
        "    def train(self, nb_steps):\n",
        "        for t in range(nb_steps):\n",
        "          action = rng.choice(np.where(self.Q_t == self.Q_t.max())[0])\n",
        "          reward = self.bandit.step(action)\n",
        "          self.update(action, reward)\n"
      ]
    },
    {
      "cell_type": "code",
      "execution_count": 27,
      "metadata": {
        "id": "7vcaRgI9aT8r",
        "outputId": "d49af944-2774-44c6-be40-8d4a13f1edfc",
        "colab": {
          "base_uri": "https://localhost:8080/"
        }
      },
      "outputs": [
        {
          "output_type": "stream",
          "name": "stdout",
          "text": [
            "Bandit reward: [ 0.96515458  2.04556643 -0.55963638  1.19048819  1.18252583]\n",
            "Estimated reward: [0.        0.        0.        1.5793972 0.       ]\n",
            "Best bandit action is 1, best estimated action is 3\n"
          ]
        }
      ],
      "source": [
        "bandit = Bandit(nb_actions)\n",
        "\n",
        "agent = GreedyAgent(bandit, alpha=0.1)\n",
        "agent.train(1000)\n",
        "\n",
        "print(f\"Bandit reward: {bandit.Q_star}\")\n",
        "print(f\"Estimated reward: {agent.Q_t}\")\n",
        "print(f\"Best bandit action is {bandit.a_star}, best estimated action is {agent.act()}\")"
      ]
    },
    {
      "cell_type": "markdown",
      "metadata": {
        "id": "w20z8JwFaT8r"
      },
      "source": [
        "**Q:** Modify the `train()` method so that it also returns a list of binary values (0 and 1) indicating for each play whether the agent chose the optimal action. Plot this list and observe the lack of exploration.\n",
        "\n",
        "*Hint:* the index of the optimal action is already stored in the bandit: `bandit.a_star`."
      ]
    },
    {
      "cell_type": "code",
      "execution_count": 28,
      "metadata": {
        "id": "p3IgDNuZaT8s"
      },
      "outputs": [],
      "source": [
        "class GreedyAgent:\n",
        "    def __init__(self, bandit, alpha):\n",
        "        self.bandit = bandit\n",
        "        self.alpha = alpha\n",
        "        self.Q_t = np.zeros(bandit.nb_actions)\n",
        "\n",
        "        self.optimal_action = []\n",
        "\n",
        "    def act(self):\n",
        "        action = rng.choice(np.where(self.Q_t == self.Q_t.max())[0])\n",
        "        return action\n",
        "\n",
        "    def update(self, action, reward):\n",
        "        self.Q_t[action] = self.Q_t[action] + self.alpha * (reward - self.Q_t[action])\n",
        "\n",
        "    def train(self, nb_steps):\n",
        "        for t in range(nb_steps):\n",
        "          action = rng.choice(np.where(self.Q_t == self.Q_t.max())[0])\n",
        "          reward = self.bandit.step(action)\n",
        "          self.update(action, reward)\n",
        "\n",
        "\n",
        "          if a == bandit.a_star:\n",
        "            self.optimal_action.append(1)\n",
        "          else:\n",
        "            self.optimal_action.append(0)\n"
      ]
    },
    {
      "cell_type": "code",
      "execution_count": 29,
      "metadata": {
        "id": "r_vzEjvUaT8s",
        "outputId": "a320c961-b020-48fd-e731-bed0d94d055e",
        "colab": {
          "base_uri": "https://localhost:8080/",
          "height": 503
        }
      },
      "outputs": [
        {
          "output_type": "stream",
          "name": "stdout",
          "text": [
            "Bandit reward: [ 1.40179071  1.87511446 -0.37108098 -0.79749061 -1.3248293 ]\n",
            "Estimated reward: [ 0.          1.49194685 -0.04078468 -0.13533896 -0.18288333]\n",
            "Best bandit action is 1, best estimated action is 1\n"
          ]
        },
        {
          "output_type": "display_data",
          "data": {
            "text/plain": [
              "<Figure size 640x480 with 1 Axes>"
            ],
            "image/png": "[encoded data removed]"
          },
          "metadata": {}
        }
      ],
      "source": [
        "bandit = Bandit(nb_actions)\n",
        "\n",
        "agent = GreedyAgent(bandit, alpha=0.1)\n",
        "agent.train(200)\n",
        "\n",
        "print(f\"Bandit reward: {bandit.Q_star}\")\n",
        "print(f\"Estimated reward: {agent.Q_t}\")\n",
        "print(f\"Best bandit action is {bandit.a_star}, best estimated action is {agent.act()}\")\n",
        "\n",
        "plt.plot(agent.optimal_action)\n",
        "plt.xlabel(\"Plays\")\n",
        "plt.ylabel(\"Optimal action\")\n",
        "plt.show()"
      ]
    },
    {
      "cell_type": "markdown",
      "metadata": {
        "id": "bfztv3uwaT8t"
      },
      "source": [
        "\n",
        "\n",
        "The evolution of the received rewards and optimal actions does not give a clear indication of the successful learning, as it is strongly dependent on the true Q-values. To truly estimate the performance of the algorithm, we have to average these results over many runs, e.g. 200.\n",
        "\n",
        "**Q:** Run the learning procedure 200 times (new bandit and agent every time) and average the results. Give a unique name to these arrays (e.g. `rewards_greedy` and `optimal_greedy`) as we will do comparisons later. Compare the results with the lecture, where a 10-armed bandit was used."
      ]
    },
    {
      "cell_type": "code",
      "execution_count": null,
      "metadata": {
        "id": "S6COwxALaT8t"
      },
      "outputs": [],
      "source": [
        "nb_actions = 5\n",
        "\n",
        "rewards_greedy = []\n",
        "optimal_greedy = []\n",
        "\n",
        "for i in range(200):\n",
        "  bandit = Bandit(nb_actions)\n",
        "  agent = GreedyAgent(bandit, alpha=0.1)\n",
        "  agent.train(200)\n",
        "\n",
        "  rewards_greedy.append(agent.Q_t)\n",
        "  optimal_greedy.append(1) if agent.act() == bandit.a_star else optimal_greedy.append(0)\n",
        "\n",
        "rewards_greedy = np.mean(rewards_greedy, axis=0)\n",
        "optimal_greedy = np.mean(optimal_greedy, axis=0)\n",
        "\n",
        "print(optimal_greedy)\n",
        "print(rewards_greedy)\n",
        "# höher als mit 10, etwa 75-80% das richtige Ergebnis. Bei 10 sind es etwa 50%"
      ]
    },
    {
      "cell_type": "markdown",
      "metadata": {
        "id": "NZ5FgJDOaT8t"
      },
      "source": [
        "## $\\epsilon$-greedy action selection\n",
        "\n",
        "The main drawback of greedy action selection is that it does not explore: as soon as it finds an action better than the others (with a sufficiently positive true Q-value, i.e. where the sampled rewards are mostly positive), it will keep selecting that action and avoid exploring the other options.\n",
        "\n",
        "The estimated Q-value of the selected action will end up being quite correct, but those of the other actions will stay at 0.\n",
        "\n",
        "In $\\epsilon$-greedy action selection, the greedy action $a_t^*$ (with the highest estimated Q-value) will be selected with a probability $1-\\epsilon$, the others with a probability of $\\epsilon$ altogether.\n",
        "\n",
        "$$\n",
        "    \\pi(a) = \\begin{cases} 1 - \\epsilon \\; \\text{if} \\; a = a_t^* \\\\ \\frac{\\epsilon}{|\\mathcal{A}| - 1} \\; \\text{otherwise.} \\end{cases}\n",
        "$$\n",
        "\n",
        "If you have $|\\mathcal{A}| = 5$ actions, the four non-greedy actions will be selected with a probability of $\\frac{\\epsilon}{4}$.\n",
        "\n",
        "**Q:** Create a `EpsilonGreedyAgent` (possibly inheriting from `GreedyAgent` to reuse code) to implement $\\epsilon$-greedy action selection (with $\\epsilon=0.1$ at first). Do not overwrite the arrays previously calculated (mean reward and optimal actions), as you will want to compare the two methods in a single plot.\n",
        "\n",
        "To implement $\\epsilon-$greedy, you need to:\n",
        "\n",
        "1. Select the greedy action $a = a^*_t$.\n",
        "2. Draw a random number between 0 and 1 (`rng.random()`).\n",
        "3. If this number is smaller than $\\epsilon$, you need to select another action randomly in the remaining ones (`rng.choice()`).\n",
        "4. Otherwise, keep the greedy action."
      ]
    },
    {
      "cell_type": "code",
      "execution_count": 31,
      "metadata": {
        "id": "v6fqytXBaT8u"
      },
      "outputs": [],
      "source": [
        "class EpsilonGreedyAgent:\n",
        "    def __init__(self, bandit, alpha, epsilon):\n",
        "        self.bandit = bandit\n",
        "        self.alpha = alpha\n",
        "        self.Q_t = np.zeros(bandit.nb_actions)\n",
        "        self.epsilon = epsilon\n",
        "\n",
        "        self.optimal_action = []\n",
        "\n",
        "    def act(self):\n",
        "        action = rng.choice(np.where(self.Q_t == self.Q_t.max())[0])\n",
        "        return action\n",
        "\n",
        "    def update(self, action, reward):\n",
        "        self.Q_t[action] = self.Q_t[action] + self.alpha * (reward - self.Q_t[action])\n",
        "\n",
        "    def train(self, nb_steps):\n",
        "        for t in range(nb_steps):\n",
        "          action = rng.choice(np.where(self.Q_t == self.Q_t.max())[0])\n",
        "\n",
        "          # eta selection\n",
        "          if rng.random() < self.epsilon:\n",
        "            action = rng.choice([i for i in range(self.bandit.nb_actions) if i != action])\n",
        "\n",
        "          reward = self.bandit.step(action)\n",
        "          self.update(action, reward)\n",
        "\n",
        "\n",
        "          if a == bandit.a_star:\n",
        "            self.optimal_action.append(1)\n",
        "          else:\n",
        "            self.optimal_action.append(0)\n"
      ]
    },
    {
      "cell_type": "code",
      "execution_count": 37,
      "metadata": {
        "id": "haiKx5yoaT8u",
        "outputId": "f4471c3f-337b-4a84-cc57-300039deab06",
        "colab": {
          "base_uri": "https://localhost:8080/"
        }
      },
      "outputs": [
        {
          "output_type": "stream",
          "name": "stdout",
          "text": [
            "0.84\n",
            "[ 0.20902354  0.08824536 -0.02611634  0.15075475  0.11811584]\n"
          ]
        }
      ],
      "source": [
        "nb_actions = 5\n",
        "\n",
        "rewards_epsilon_greedy = []\n",
        "optimal_epsilon_greedy = []\n",
        "\n",
        "for i in range(200):\n",
        "  bandit = Bandit(nb_actions)\n",
        "  agent = EpsilonGreedyAgent(bandit, alpha=0.1, epsilon=0.1)\n",
        "  agent.train(200)\n",
        "\n",
        "  rewards_epsilon_greedy.append(agent.Q_t)\n",
        "  optimal_epsilon_greedy.append(1) if agent.act() == bandit.a_star else optimal_epsilon_greedy.append(0)\n",
        "\n",
        "optimal_epsilon_greedy = np.mean(optimal_epsilon_greedy, axis=0)\n",
        "rewards_epsilon_greedy = np.mean(rewards_epsilon_greedy, axis=0)\n",
        "\n",
        "print(optimal_epsilon_greedy)\n",
        "print(rewards_epsilon_greedy)\n",
        "# besser als Greedy (5-10% bei eps=0.1, sonst schlechter (ähnlich))"
      ]
    },
    {
      "cell_type": "markdown",
      "metadata": {
        "id": "ZF2rJVbfaT8u"
      },
      "source": [
        "**Q:** Compare the properties of greedy and $\\epsilon$-greedy (speed, optimality, etc). Vary the value of the parameter $\\epsilon$ (0.0001 until 0.5) and conclude."
      ]
    },
    {
      "cell_type": "markdown",
      "metadata": {
        "id": "aUaetJOSaT8v"
      },
      "source": [
        "\n",
        "## Softmax action selection\n",
        "\n",
        "To avoid exploring actions which are clearly not optimal, another useful algorithm is **softmax action selection**. In this scheme, the estimated Q-values are ransformed into a probability distribution using the softmax opertion:\n",
        "\n",
        "$$\n",
        "    \\pi(a) = \\frac{\\exp \\frac{Q_t(a)}{\\tau}}{ \\sum_b \\exp \\frac{Q_t(b)}{\\tau}}\n",
        "$$\n",
        "\n",
        "For each action, the term $\\exp \\frac{Q_t(a)}{\\tau}$ is proportional to $Q_t(a)$ but made positive. These terms are then normalized by the denominator in order to obtain a sum of 1, i.e. they are the parameters of a discrete probability distribution. The temperature $\\tau$ controls the level of exploration just as $\\epsilon$ for $\\epsilon$-greedy.\n",
        "\n",
        "In practice, $\\exp \\frac{Q_t(a)}{\\tau}$ can be very huge if the Q-values are high or the temperature is small, creating numerical instability (NaN). It is much more stable to substract the maximal Q-value from all Q-values before applying the softmax:\n",
        "\n",
        "$$\n",
        "    \\pi(a) = \\frac{\\exp \\displaystyle\\frac{Q_t(a) - \\max_a Q_t(a)}{\\tau}}{ \\sum_b \\exp \\displaystyle\\frac{Q_t(b) - \\max_b Q_t(b)}{\\tau}}\n",
        "$$\n",
        "\n",
        "This way, $Q_t(a) - \\max_a Q_t(a)$ is always negative, so its exponential is between 0 and 1.\n",
        "\n",
        "**Q:** Implement the softmax action selection (with $\\tau=0.5$ at first) and compare its performance to greedy and $\\epsilon$-greedy. Vary the temperature $\\tau$ and find the best possible value. Conclude.\n",
        "\n",
        "*Hint:* To select actions with different probabilities, check the doc of `rng.choice()`."
      ]
    },
    {
      "cell_type": "code",
      "execution_count": 36,
      "metadata": {
        "id": "irl3M9qYaT8v"
      },
      "outputs": [],
      "source": [
        "import math\n",
        "\n",
        "class SoftmaxAgent:\n",
        "    def __init__(self, bandit, alpha, t):\n",
        "        self.bandit = bandit\n",
        "        self.alpha = alpha\n",
        "        self.Q_t = np.zeros(bandit.nb_actions)\n",
        "        self.t = t\n",
        "\n",
        "        self.optimal_action = []\n",
        "\n",
        "    def act(self):\n",
        "        action = rng.choice(np.where(self.Q_t == self.Q_t.max())[0])\n",
        "        return action\n",
        "\n",
        "    def update(self, action, reward):\n",
        "        self.Q_t[action] = self.Q_t[action] + self.alpha * (reward - self.Q_t[action])\n",
        "\n",
        "    def train(self, nb_steps):\n",
        "        for t in range(nb_steps):\n",
        "          action = rng.choice(np.where(self.Q_t == self.Q_t.max())[0])\n",
        "\n",
        "          # softmax selection\n",
        "          prob = []\n",
        "\n",
        "          for a in range(self.bandit.nb_actions):\n",
        "            sum = 0\n",
        "            for b in range(self.bandit.nb_actions):\n",
        "                sum += math.exp(((self.Q_t[b] - self.Q_t.max())/self.t))\n",
        "            prob.append(math.exp((self.Q_t[a] - self.Q_t.max()) / self.t) / sum )\n",
        "\n",
        "          # chose reward based on probabilites\n",
        "          action = rng.choice(range(self.bandit.nb_actions), p=prob)\n",
        "\n",
        "          reward = self.bandit.step(action)\n",
        "          self.update(action, reward)\n",
        "\n",
        "\n",
        "          if a == bandit.a_star:\n",
        "            self.optimal_action.append(1)\n",
        "          else:\n",
        "            self.optimal_action.append(0)\n"
      ]
    },
    {
      "cell_type": "code",
      "source": [
        "nb_actions = 5\n",
        "\n",
        "rewards_epsilon_softmax = []\n",
        "optimal_epsilon_softmax = []\n",
        "\n",
        "for i in range(200):\n",
        "  bandit = Bandit(nb_actions)\n",
        "  agent = SoftmaxAgent(bandit, alpha=0.1, t=0.5)\n",
        "  agent.train(200)\n",
        "\n",
        "  rewards_epsilon_softmax.append(agent.Q_t)\n",
        "  optimal_epsilon_softmax.append(1) if agent.act() == bandit.a_star else optimal_epsilon_softmax.append(0)\n",
        "\n",
        "rewards_epsilon_softmax = np.mean(rewards_epsilon_softmax, axis=0)\n",
        "optimal_epsilon_softmax = np.mean(optimal_epsilon_softmax, axis=0)\n",
        "\n",
        "print(rewards_epsilon_softmax)\n",
        "print(optimal_epsilon_softmax)\n",
        "# ~5% besser als epsilon-Greedy"
      ],
      "metadata": {
        "id": "oyW2_HD9thfF",
        "outputId": "d08fd361-8bab-4a0a-8c1b-56930253d4b9",
        "colab": {
          "base_uri": "https://localhost:8080/"
        }
      },
      "execution_count": 35,
      "outputs": [
        {
          "output_type": "stream",
          "name": "stdout",
          "text": [
            "[0.10826468 0.10526573 0.05089136 0.01661208 0.03115706]\n",
            "0.875\n"
          ]
        }
      ]
    },
    {
      "cell_type": "markdown",
      "metadata": {
        "id": "IhmUKWowaT8v"
      },
      "source": [
        "## Exploration scheduling\n",
        "\n",
        "The problem with this version of softmax (with a constant temperature) is that even after it has found the optimal action, it will still explore the other ones (although more rarely than at the beginning). The solution is to **schedule** the exploration parameter so that it explores a lot at the beginning (high temperature) and gradually switches to more exploitation (low temperature).\n",
        "\n",
        "Many schemes are possible for that, the simplest one (**exponential decay**) being to multiply the value of $\\tau$ by a number very close to 1 after **each** play:\n",
        "\n",
        "$$\\tau = \\tau \\times (1 - \\tau_\\text{decay})$$\n",
        "\n",
        "**Q:** Implement in a class `SoftmaxScheduledAgent` temperature scheduling for the softmax algorithm ($\\epsilon$-greedy would be similar) with $\\tau=1$ initially and $\\tau_\\text{decay} = 0.01$ (feel free to change these values). Plot the evolution of `tau` and of the standard deviation of the choices of the optimal action. Conclude."
      ]
    },
    {
      "cell_type": "code",
      "source": [
        "import math\n",
        "\n",
        "class SoftmaxScheduleAgent:\n",
        "    def __init__(self, bandit, alpha, t, tau_decay):\n",
        "        self.bandit = bandit\n",
        "        self.alpha = alpha\n",
        "        self.Q_t = np.zeros(bandit.nb_actions)\n",
        "        self.t = t\n",
        "        self.tau_decay = tau_decay\n",
        "\n",
        "        self.optimal_action = []\n",
        "\n",
        "    def act(self):\n",
        "        action = rng.choice(np.where(self.Q_t == self.Q_t.max())[0])\n",
        "        return action\n",
        "\n",
        "    def update(self, action, reward):\n",
        "        self.Q_t[action] = self.Q_t[action] + self.alpha * (reward - self.Q_t[action])\n",
        "\n",
        "    def train(self, nb_steps):\n",
        "        for t in range(nb_steps):\n",
        "          action = rng.choice(np.where(self.Q_t == self.Q_t.max())[0])\n",
        "\n",
        "          # softmax selection\n",
        "          prob = []\n",
        "\n",
        "          for a in range(self.bandit.nb_actions):\n",
        "            sum = 0\n",
        "            for b in range(self.bandit.nb_actions):\n",
        "                sum += math.exp(((self.Q_t[b] - self.Q_t.max())/self.t))\n",
        "            prob.append(math.exp((self.Q_t[a] - self.Q_t.max()) / self.t) / sum )\n",
        "\n",
        "          # chose reward based on probabilites\n",
        "          action = rng.choice(range(self.bandit.nb_actions), p=prob)\n",
        "\n",
        "          reward = self.bandit.step(action)\n",
        "          self.update(action, reward)\n",
        "\n",
        "\n",
        "          if a == bandit.a_star:\n",
        "            self.optimal_action.append(1)\n",
        "          else:\n",
        "            self.optimal_action.append(0)\n",
        "\n",
        "          if (self.t > self.tau_decay): self.t -= self.tau_decay"
      ],
      "metadata": {
        "id": "bKr1Y9QDtsTT"
      },
      "execution_count": 40,
      "outputs": []
    },
    {
      "cell_type": "code",
      "execution_count": 47,
      "metadata": {
        "id": "bAZp57sfaT8w",
        "outputId": "0c123bd6-9b33-4219-bb03-fe44019c3b67",
        "colab": {
          "base_uri": "https://localhost:8080/"
        }
      },
      "outputs": [
        {
          "output_type": "stream",
          "name": "stdout",
          "text": [
            "[0.0307278  0.04543037 0.15798793 0.06038701 0.12202396]\n",
            "0.915\n"
          ]
        }
      ],
      "source": [
        "nb_actions = 5\n",
        "\n",
        "rewards_epsilon_softmax = []\n",
        "optimal_epsilon_softmax = []\n",
        "\n",
        "for i in range(200):\n",
        "  bandit = Bandit(nb_actions)\n",
        "  agent = SoftmaxScheduleAgent(bandit, alpha=0.1, t=1, tau_decay=0.01)\n",
        "  agent.train(200)\n",
        "\n",
        "  rewards_epsilon_softmax.append(agent.Q_t)\n",
        "  optimal_epsilon_softmax.append(1) if agent.act() == bandit.a_star else optimal_epsilon_softmax.append(0)\n",
        "\n",
        "rewards_epsilon_softmax = np.mean(rewards_epsilon_softmax, axis=0)\n",
        "optimal_epsilon_softmax = np.mean(optimal_epsilon_softmax, axis=0)\n",
        "\n",
        "print(rewards_epsilon_softmax)\n",
        "print(optimal_epsilon_softmax)\n",
        "# ~1-3% besser als Softmax"
      ]
    },
    {
      "cell_type": "markdown",
      "metadata": {
        "id": "BrZVSHOEaT8w"
      },
      "source": [
        "**Q:** Experiment with different schedules (initial values, decay rate) and try to find the best setting."
      ]
    },
    {
      "cell_type": "code",
      "execution_count": 52,
      "metadata": {
        "id": "MrBQaCNeaT8w",
        "outputId": "5ab1a405-91f0-4153-8432-d45e48bce9a8",
        "colab": {
          "base_uri": "https://localhost:8080/"
        }
      },
      "outputs": [
        {
          "output_type": "stream",
          "name": "stdout",
          "text": [
            "2.0: [-0.06162218  0.11301251  0.02364648 -0.00950577  0.0879061 ]\n",
            "2.0: 0.885\n",
            "1.0: [0.16440538 0.10114884 0.15679042 0.12806191 0.14818823]\n",
            "1.0: 0.895\n",
            "0.9: [0.06499229 0.03044532 0.10678838 0.04260966 0.1587727 ]\n",
            "0.9: 0.88\n",
            "0.8: [0.03861334 0.126923   0.15383056 0.15608334 0.11579599]\n",
            "0.8: 0.875\n",
            "0.7: [0.12127467 0.00504929 0.10854016 0.08432419 0.08849957]\n",
            "0.7: 0.845\n",
            "0.6: [0.21400385 0.1298018  0.17902756 0.19425879 0.07133216]\n",
            "0.6: 0.87\n",
            "0.5: [0.19121412 0.19401679 0.10979838 0.19974832 0.0831052 ]\n",
            "0.5: 0.785\n"
          ]
        }
      ],
      "source": [
        "nb_actions = 5\n",
        "\n",
        "\n",
        "\n",
        "tau_start_values = [2.0, 1.0, 0.9, 0.8, 0.7, 0.6, 0.5]\n",
        "for tau in tau_start_values:\n",
        "  rewards_epsilon_softmax = []\n",
        "  optimal_epsilon_softmax = []\n",
        "\n",
        "  for i in range(200):\n",
        "    bandit = Bandit(nb_actions)\n",
        "    agent = SoftmaxScheduleAgent(bandit, alpha=0.1, t=tau, tau_decay=0.01)\n",
        "    agent.train(200)\n",
        "\n",
        "    rewards_epsilon_softmax.append(agent.Q_t)\n",
        "    optimal_epsilon_softmax.append(1) if agent.act() == bandit.a_star else optimal_epsilon_softmax.append(0)\n",
        "\n",
        "  rewards_epsilon_softmax = np.mean(rewards_epsilon_softmax, axis=0)\n",
        "  optimal_epsilon_softmax = np.mean(optimal_epsilon_softmax, axis=0)\n",
        "\n",
        "  print(f\"{tau}: {rewards_epsilon_softmax}\")\n",
        "  print(f\"{tau}: {optimal_epsilon_softmax}\")\n",
        "\n",
        "# t=1 t_d=0.01 --> 89%\n",
        "# t=1 t_d=0.05 --> 87%\n",
        "# t=0.5 t_d=0.05 --> 87.5%\n"
      ]
    },
    {
      "cell_type": "code",
      "source": [],
      "metadata": {
        "id": "GNK13HpXlRan"
      },
      "execution_count": null,
      "outputs": []
    }
  ],
  "metadata": {
    "kernelspec": {
      "display_name": "Python 3.9.12 ('base')",
      "language": "python",
      "name": "python3"
    },
    "language_info": {
      "codemirror_mode": {
        "name": "ipython",
        "version": 3
      },
      "file_extension": ".py",
      "mimetype": "text/x-python",
      "name": "python",
      "nbconvert_exporter": "python",
      "pygments_lexer": "ipython3",
      "version": "3.12.6"
    },
    "vscode": {
      "interpreter": {
        "hash": "3d24234067c217f49dc985cbc60012ce72928059d528f330ba9cb23ce737906d"
      }
    },
    "colab": {
      "provenance": [],
      "toc_visible": true,
      "include_colab_link": true
    }
  },
  "nbformat": 4,
  "nbformat_minor": 0
}